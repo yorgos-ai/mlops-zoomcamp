{
 "cells": [
  {
   "cell_type": "code",
   "execution_count": 1,
   "metadata": {},
   "outputs": [],
   "source": [
    "import pandas as pd\n",
    "from sklearn.feature_extraction import DictVectorizer\n",
    "from sklearn.linear_model import LinearRegression\n",
    "from sklearn.metrics import root_mean_squared_error"
   ]
  },
  {
   "cell_type": "markdown",
   "metadata": {},
   "source": [
    "## Question 1"
   ]
  },
  {
   "cell_type": "code",
   "execution_count": 2,
   "metadata": {},
   "outputs": [
    {
     "name": "stdout",
     "output_type": "stream",
     "text": [
      "The data for January 2023 have 19 columns.\n"
     ]
    }
   ],
   "source": [
    "df_train = pd.read_parquet('../data/yellow_tripdata_2023-01.parquet')\n",
    "df_val = pd.read_parquet('../data/yellow_tripdata_2023-02.parquet')\n",
    "\n",
    "print(f\"The data for January 2023 have {len(df_train.columns)} columns.\")"
   ]
  },
  {
   "cell_type": "markdown",
   "metadata": {},
   "source": [
    "## Question 2"
   ]
  },
  {
   "cell_type": "code",
   "execution_count": 3,
   "metadata": {},
   "outputs": [],
   "source": [
    "def calculate_duration(df: pd.DataFrame) -> pd.DataFrame:\n",
    "    df['duration'] = df.tpep_dropoff_datetime - df.tpep_pickup_datetime\n",
    "    df.duration = df.duration.apply(lambda td: td.total_seconds() / 60)\n",
    "    return df"
   ]
  },
  {
   "cell_type": "code",
   "execution_count": 4,
   "metadata": {},
   "outputs": [
    {
     "name": "stdout",
     "output_type": "stream",
     "text": [
      "The standard deviation of the duration of the trips in January 2023 is 42.59 minutes.\n"
     ]
    }
   ],
   "source": [
    "df_train = calculate_duration(df_train)\n",
    "print(f\"The standard deviation of the duration of the trips in January 2023 is {df_train.duration.std():.2f} minutes.\")"
   ]
  },
  {
   "cell_type": "markdown",
   "metadata": {},
   "source": [
    "## Question 3"
   ]
  },
  {
   "cell_type": "code",
   "execution_count": 5,
   "metadata": {},
   "outputs": [],
   "source": [
    "def clean_duration(df: pd.DataFrame) -> pd.DataFrame:\n",
    "    return df[(df.duration >= 1) & (df.duration <= 60)]"
   ]
  },
  {
   "cell_type": "code",
   "execution_count": 6,
   "metadata": {},
   "outputs": [
    {
     "name": "stdout",
     "output_type": "stream",
     "text": [
      "The fraction of the records left after cleaning is 0.98.\n"
     ]
    }
   ],
   "source": [
    "df_train_clean = clean_duration(df_train)\n",
    "rows_before_cleaning = df_train.shape[0]\n",
    "rows_after_cleaning = df_train_clean.shape[0]\n",
    "print(f\"The fraction of the records left after cleaning is {rows_after_cleaning / rows_before_cleaning:.2f}.\")"
   ]
  },
  {
   "cell_type": "markdown",
   "metadata": {},
   "source": [
    "## Question 4"
   ]
  },
  {
   "cell_type": "code",
   "execution_count": 7,
   "metadata": {},
   "outputs": [],
   "source": [
    "def prep_data_dict(df: pd.DataFrame, cat_cols: list[str]) -> pd.DataFrame:\n",
    "    df.loc[:, cat_cols] = df[cat_cols].astype(str)\n",
    "    data_dict = df[cat_cols].to_dict(orient='records')\n",
    "    return data_dict"
   ]
  },
  {
   "cell_type": "code",
   "execution_count": 8,
   "metadata": {},
   "outputs": [
    {
     "name": "stderr",
     "output_type": "stream",
     "text": [
      "/tmp/ipykernel_3315/1234890467.py:2: FutureWarning: Setting an item of incompatible dtype is deprecated and will raise in a future error of pandas. Value '['161' '43' '48' ... '114' '230' '262']' has dtype incompatible with int64, please explicitly cast to a compatible dtype first.\n",
      "  df.loc[:, cat_cols] = df[cat_cols].astype(str)\n",
      "/tmp/ipykernel_3315/1234890467.py:2: FutureWarning: Setting an item of incompatible dtype is deprecated and will raise in a future error of pandas. Value '['141' '237' '238' ... '239' '79' '143']' has dtype incompatible with int64, please explicitly cast to a compatible dtype first.\n",
      "  df.loc[:, cat_cols] = df[cat_cols].astype(str)\n"
     ]
    },
    {
     "name": "stdout",
     "output_type": "stream",
     "text": [
      "The number of features after one-hot encoding is 515.\n"
     ]
    }
   ],
   "source": [
    "categorical = ['PULocationID', 'DOLocationID']\n",
    "train_dicts = prep_data_dict(df=df_train_clean, cat_cols=categorical)\n",
    "\n",
    "dv = DictVectorizer()\n",
    "X_train = dv.fit_transform(train_dicts)\n",
    "print(f\"The number of features after one-hot encoding is {X_train.shape[1]}.\")"
   ]
  },
  {
   "cell_type": "markdown",
   "metadata": {},
   "source": [
    "## Question 5"
   ]
  },
  {
   "cell_type": "code",
   "execution_count": 9,
   "metadata": {},
   "outputs": [
    {
     "name": "stdout",
     "output_type": "stream",
     "text": [
      "The RMSE on the training data is 7.65\n"
     ]
    }
   ],
   "source": [
    "target = 'duration'\n",
    "y_train = df_train_clean[target].values\n",
    "\n",
    "lr = LinearRegression()\n",
    "lr.fit(X_train, y_train)\n",
    "\n",
    "y_pred = lr.predict(X_train)\n",
    "\n",
    "mse_train = root_mean_squared_error(y_train, y_pred)\n",
    "print(f\"The RMSE on the training data is {mse_train:.2f}\")"
   ]
  },
  {
   "cell_type": "markdown",
   "metadata": {},
   "source": [
    "## Question 6"
   ]
  },
  {
   "cell_type": "code",
   "execution_count": 10,
   "metadata": {},
   "outputs": [
    {
     "name": "stderr",
     "output_type": "stream",
     "text": [
      "/tmp/ipykernel_3315/1234890467.py:2: FutureWarning: Setting an item of incompatible dtype is deprecated and will raise in a future error of pandas. Value '['142' '132' '161' ... '158' '79' '161']' has dtype incompatible with int32, please explicitly cast to a compatible dtype first.\n",
      "  df.loc[:, cat_cols] = df[cat_cols].astype(str)\n",
      "/tmp/ipykernel_3315/1234890467.py:2: FutureWarning: Setting an item of incompatible dtype is deprecated and will raise in a future error of pandas. Value '['163' '26' '145' ... '143' '162' '140']' has dtype incompatible with int32, please explicitly cast to a compatible dtype first.\n",
      "  df.loc[:, cat_cols] = df[cat_cols].astype(str)\n"
     ]
    },
    {
     "name": "stdout",
     "output_type": "stream",
     "text": [
      "The RMSE on the validation data is 7.81\n"
     ]
    }
   ],
   "source": [
    "df_val = calculate_duration(df_val)\n",
    "df_val_clean = clean_duration(df_val)\n",
    "val_dicts = prep_data_dict(df=df_val_clean, cat_cols=categorical)\n",
    "\n",
    "X_val = dv.transform(val_dicts)\n",
    "y_val = df_val_clean[target].values\n",
    "y_pred = lr.predict(X_val)\n",
    "\n",
    "mse_val = root_mean_squared_error(y_val, y_pred)\n",
    "print(f\"The RMSE on the validation data is {mse_val:.2f}\")"
   ]
  }
 ],
 "metadata": {
  "kernelspec": {
   "display_name": "mlops-zoomcamp-8GPHhKUR-py3.9",
   "language": "python",
   "name": "python3"
  },
  "language_info": {
   "codemirror_mode": {
    "name": "ipython",
    "version": 3
   },
   "file_extension": ".py",
   "mimetype": "text/x-python",
   "name": "python",
   "nbconvert_exporter": "python",
   "pygments_lexer": "ipython3",
   "version": "3.9.12"
  }
 },
 "nbformat": 4,
 "nbformat_minor": 2
}
